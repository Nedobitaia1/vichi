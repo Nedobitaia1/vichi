{
 "cells": [
  {
   "cell_type": "code",
   "execution_count": 1,
   "id": "5e78fd8c",
   "metadata": {},
   "outputs": [],
   "source": [
    "import numpy as np\n",
    "import math"
   ]
  },
  {
   "cell_type": "markdown",
   "id": "29f59b5c",
   "metadata": {},
   "source": [
    "### Обычная точность:"
   ]
  },
  {
   "cell_type": "code",
   "execution_count": 31,
   "id": "e8b0263c",
   "metadata": {},
   "outputs": [
    {
     "name": "stdout",
     "output_type": "stream",
     "text": [
      "1 True\n",
      "2 True\n",
      "3 True\n",
      "4 True\n",
      "5 True\n",
      "6 True\n",
      "7 True\n",
      "8 True\n",
      "9 True\n",
      "10 True\n",
      "11 True\n",
      "12 True\n",
      "13 True\n",
      "14 True\n",
      "15 True\n",
      "16 True\n",
      "17 True\n",
      "18 True\n",
      "19 True\n",
      "20 True\n",
      "21 True\n",
      "22 True\n",
      "23 True\n",
      "24 False\n",
      "eps = 1.1920928955078125e-07 n = -23\n"
     ]
    }
   ],
   "source": [
    "#машинный эпсилон(обычная точность)\n",
    "x = np.float32(1.0)\n",
    "i = 0\n",
    "while(np.float32(1) + x > 1):\n",
    "    x = x / np.float32(2) \n",
    "    i = i + 1\n",
    "    print(i, np.float32(1) + x > 1)\n",
    "print('eps =', x*2, 'n =', -i+1  )  "
   ]
  },
  {
   "cell_type": "code",
   "execution_count": 19,
   "id": "dcbe95fa",
   "metadata": {},
   "outputs": [
    {
     "name": "stdout",
     "output_type": "stream",
     "text": [
      "n = -150\n"
     ]
    }
   ],
   "source": [
    "# находим минимальную степень\n",
    "y = np.float32(1.0)\n",
    "i = 0\n",
    "while(y != 0):\n",
    "    y = y / np.float32(2) \n",
    "    i = i + 1\n",
    "print('n =', -i ) "
   ]
  },
  {
   "cell_type": "code",
   "execution_count": 20,
   "id": "ced0c32e",
   "metadata": {},
   "outputs": [
    {
     "name": "stdout",
     "output_type": "stream",
     "text": [
      "n = 128\n"
     ]
    },
    {
     "name": "stderr",
     "output_type": "stream",
     "text": [
      "C:\\Users\\nedobitaia\\AppData\\Local\\Temp\\ipykernel_18480\\344070904.py:5: RuntimeWarning: overflow encountered in float_scalars\n",
      "  y = y * np.float32(2)\n"
     ]
    }
   ],
   "source": [
    "# находим максимальную степень\n",
    "y = np.float32(1.0)\n",
    "i = 0\n",
    "while(y <  float(\"inf\")):\n",
    "    y = y * np.float32(2) \n",
    "    i = i + 1\n",
    "print('n =', i )"
   ]
  },
  {
   "cell_type": "markdown",
   "id": "79f8074b",
   "metadata": {},
   "source": [
    "### Двойная точность"
   ]
  },
  {
   "cell_type": "code",
   "execution_count": 17,
   "id": "bdfc1427",
   "metadata": {},
   "outputs": [
    {
     "name": "stdout",
     "output_type": "stream",
     "text": [
      "eps = 2.220446049250313e-16 n = -52\n"
     ]
    }
   ],
   "source": [
    "#машинный эпсилон(двоная точность)\n",
    "x = np.float64(1.0)\n",
    "i = 0\n",
    "while(np.float64(1) + x > 1):\n",
    "    x = x / np.float64(2) \n",
    "    i = i + 1\n",
    "print('eps =', x*2, 'n =', -i+1  )  "
   ]
  },
  {
   "cell_type": "code",
   "execution_count": 6,
   "id": "eaf1ed76",
   "metadata": {},
   "outputs": [
    {
     "name": "stdout",
     "output_type": "stream",
     "text": [
      "n = -1075\n"
     ]
    }
   ],
   "source": [
    "# находим минимальную степень\n",
    "y = np.float64(1.0)\n",
    "i = 0\n",
    "while(y != 0):\n",
    "    y = y / np.float64(2) \n",
    "    i = i + 1\n",
    "print('n =', -i )  "
   ]
  },
  {
   "cell_type": "code",
   "execution_count": 7,
   "id": "5bf6a41e",
   "metadata": {},
   "outputs": [
    {
     "name": "stdout",
     "output_type": "stream",
     "text": [
      "n = 1024\n"
     ]
    },
    {
     "name": "stderr",
     "output_type": "stream",
     "text": [
      "C:\\Users\\nedobitaia\\AppData\\Local\\Temp\\ipykernel_18480\\2992236728.py:5: RuntimeWarning: overflow encountered in double_scalars\n",
      "  y = y * np.float64(2)\n"
     ]
    }
   ],
   "source": [
    "# находим максимальную степень\n",
    "y = np.float64(1.0)\n",
    "i = 0\n",
    "while(y <  float(\"inf\")):\n",
    "    y = y * np.float64(2) \n",
    "    i = i + 1\n",
    "print('n =', i ) "
   ]
  },
  {
   "cell_type": "markdown",
   "id": "bc6b4aa8",
   "metadata": {},
   "source": [
    "### Сравнение чисел"
   ]
  },
  {
   "cell_type": "code",
   "execution_count": 21,
   "id": "c9ef90a6",
   "metadata": {},
   "outputs": [],
   "source": [
    "eps = x*2"
   ]
  },
  {
   "cell_type": "code",
   "execution_count": 22,
   "id": "a6cefc85",
   "metadata": {},
   "outputs": [
    {
     "data": {
      "text/plain": [
       "1.0"
      ]
     },
     "execution_count": 22,
     "metadata": {},
     "output_type": "execute_result"
    }
   ],
   "source": [
    "\n",
    "np.float32(1)"
   ]
  },
  {
   "cell_type": "code",
   "execution_count": 23,
   "id": "84ab9037",
   "metadata": {},
   "outputs": [
    {
     "data": {
      "text/plain": [
       "1.0"
      ]
     },
     "execution_count": 23,
     "metadata": {},
     "output_type": "execute_result"
    }
   ],
   "source": [
    "np.float32(1+eps/np.float32(2))"
   ]
  },
  {
   "cell_type": "code",
   "execution_count": 24,
   "id": "b20742e5",
   "metadata": {},
   "outputs": [
    {
     "data": {
      "text/plain": [
       "1.0000001"
      ]
     },
     "execution_count": 24,
     "metadata": {},
     "output_type": "execute_result"
    }
   ],
   "source": [
    "np.float32(1 + eps)"
   ]
  },
  {
   "cell_type": "code",
   "execution_count": 25,
   "id": "2e7b035c",
   "metadata": {},
   "outputs": [
    {
     "data": {
      "text/plain": [
       "1.0000002"
      ]
     },
     "execution_count": 25,
     "metadata": {},
     "output_type": "execute_result"
    }
   ],
   "source": [
    "np.float32(1 + eps + eps/2)"
   ]
  },
  {
   "cell_type": "code",
   "execution_count": 26,
   "id": "313f4606",
   "metadata": {},
   "outputs": [],
   "source": [
    "ch = (1 + eps).hex()\n",
    "ch2 = (1 + eps + eps/2).hex()  "
   ]
  },
  {
   "cell_type": "code",
   "execution_count": 27,
   "id": "a0c24ed1",
   "metadata": {},
   "outputs": [],
   "source": [
    "def float_to_binary(num):\n",
    "    exponent=0\n",
    "    shifted_num=num\n",
    "    while shifted_num != int(shifted_num):        \n",
    "        shifted_num*=2\n",
    "        exponent+=1\n",
    "    if exponent==0:\n",
    "        return '{0:0b}'.format(int(shifted_num))\n",
    "    binary='{0:0{1}b}'.format(int(shifted_num),exponent+1)\n",
    "    integer_part=binary[:-exponent]\n",
    "    fractional_part=binary[-exponent:].rstrip('0')\n",
    "    return '{0}.{1}'.format(integer_part,fractional_part)\n",
    "\n",
    "def floathex_to_binary(floathex):\n",
    "    num = float.fromhex(floathex)\n",
    "    return float_to_binary(num)"
   ]
  },
  {
   "cell_type": "code",
   "execution_count": 28,
   "id": "ff6e954a",
   "metadata": {},
   "outputs": [
    {
     "data": {
      "text/plain": [
       "'1.00000000000000000000001'"
      ]
     },
     "execution_count": 28,
     "metadata": {},
     "output_type": "execute_result"
    }
   ],
   "source": [
    "floathex_to_binary(ch)\n"
   ]
  },
  {
   "cell_type": "code",
   "execution_count": 29,
   "id": "d821fe72",
   "metadata": {},
   "outputs": [
    {
     "data": {
      "text/plain": [
       "'1.000000000000000000000011'"
      ]
     },
     "execution_count": 29,
     "metadata": {},
     "output_type": "execute_result"
    }
   ],
   "source": [
    "floathex_to_binary(ch2)"
   ]
  },
  {
   "cell_type": "code",
   "execution_count": null,
   "id": "40179a04",
   "metadata": {},
   "outputs": [],
   "source": []
  },
  {
   "cell_type": "code",
   "execution_count": null,
   "id": "87c194d6",
   "metadata": {},
   "outputs": [],
   "source": []
  },
  {
   "cell_type": "code",
   "execution_count": null,
   "id": "d38eb03b",
   "metadata": {},
   "outputs": [],
   "source": []
  }
 ],
 "metadata": {
  "kernelspec": {
   "display_name": "Python 3 (ipykernel)",
   "language": "python",
   "name": "python3"
  },
  "language_info": {
   "codemirror_mode": {
    "name": "ipython",
    "version": 3
   },
   "file_extension": ".py",
   "mimetype": "text/x-python",
   "name": "python",
   "nbconvert_exporter": "python",
   "pygments_lexer": "ipython3",
   "version": "3.9.12"
  }
 },
 "nbformat": 4,
 "nbformat_minor": 5
}
