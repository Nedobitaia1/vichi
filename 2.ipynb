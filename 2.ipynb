{
 "cells": [
  {
   "cell_type": "markdown",
   "id": "809f84a1",
   "metadata": {},
   "source": [
    " tan x = x "
   ]
  },
  {
   "cell_type": "markdown",
   "id": "122ac85a",
   "metadata": {},
   "source": [
    "### Метод деления пополам"
   ]
  },
  {
   "cell_type": "markdown",
   "id": "92a607ae",
   "metadata": {},
   "source": []
  },
  {
   "cell_type": "code",
   "execution_count": 195,
   "id": "53e15b0e",
   "metadata": {},
   "outputs": [],
   "source": [
    "from math import fabs\n",
    "from math import tan\n",
    "from math import atan\n",
    "from math import cos\n",
    "from math import pi"
   ]
  },
  {
   "cell_type": "code",
   "execution_count": 202,
   "id": "7f6a4a23",
   "metadata": {},
   "outputs": [
    {
     "name": "stdout",
     "output_type": "stream",
     "text": [
      "4.493438720703125\n"
     ]
    }
   ],
   "source": [
    "def f( x ):\n",
    "    return tan(x) - x \n",
    " \n",
    "def dihotomia( a, b, eps ):\n",
    "    ksi = ( a + b ) / 2.0\n",
    "    \n",
    "    \n",
    "    if ( fabs(a - b) <= eps ):\n",
    "        return ( a + b ) / 2.0 \n",
    "    \n",
    "    \n",
    "    if ( f( a )*f( ksi ) <= 0.0 ):\n",
    "        return dihotomia( a, ksi, eps )\n",
    "    else:\n",
    "        return dihotomia( ksi, b, eps )\n",
    "        \n",
    "\n",
    "print( dihotomia( 4, 5, 1e-4 ) );"
   ]
  },
  {
   "cell_type": "code",
   "execution_count": 203,
   "id": "e72c8dab",
   "metadata": {},
   "outputs": [
    {
     "name": "stdout",
     "output_type": "stream",
     "text": [
      "10.904144287109375\n"
     ]
    }
   ],
   "source": [
    "print( dihotomia( 10, 11, 1e-4 ) )"
   ]
  },
  {
   "cell_type": "markdown",
   "id": "b39f485b",
   "metadata": {},
   "source": [
    "### Простые итерации"
   ]
  },
  {
   "cell_type": "code",
   "execution_count": 323,
   "id": "204f6b07",
   "metadata": {},
   "outputs": [],
   "source": [
    "\n",
    "def f(x):\n",
    "    return tan(x) - x\n",
    "def dfdx(x):\n",
    "    return 1 / (cos(x)**2) -1\n",
    "def phi(x, lamb):\n",
    "    return x - lamb * f(x)"
   ]
  },
  {
   "cell_type": "code",
   "execution_count": 338,
   "id": "79e095ed",
   "metadata": {},
   "outputs": [
    {
     "name": "stdout",
     "output_type": "stream",
     "text": [
      "239\n",
      "4.493458219787424\n"
     ]
    }
   ],
   "source": [
    "\n",
    "def PointIteration(x, e, lamb, N=1e5):\n",
    "    step = 0\n",
    "    flag = 1\n",
    "    while abs(phi(x, lamb) - x) > e and step < N:\n",
    "        x =  phi(x, lamb)\n",
    "        step = step + 1\n",
    "     \n",
    "    if step > N:\n",
    "        flag=0\n",
    "\n",
    "    if flag==1:\n",
    "        print(step)\n",
    "        return x\n",
    "    else:\n",
    "        print('\\nNot Convergent.')\n",
    "        \n",
    "\n",
    "\n",
    "print(PointIteration(4.5, 1e-6,0.001, 1e5))"
   ]
  },
  {
   "cell_type": "code",
   "execution_count": 340,
   "id": "b60da0e9",
   "metadata": {},
   "outputs": [],
   "source": [
    "def p(N):\n",
    "    lamb = 0.1\n",
    "    for i in range(N):\n",
    "\n",
    "        print(\"lamb = \", lamb)\n",
    "        print(PointIteration(4.5, 1e-6, lamb, 1e5))\n",
    "        lamb = lamb/10"
   ]
  },
  {
   "cell_type": "code",
   "execution_count": 341,
   "id": "83bc9778",
   "metadata": {},
   "outputs": [
    {
     "name": "stdout",
     "output_type": "stream",
     "text": [
      "lamb =  0.1\n",
      "100000\n",
      "4.511924219785923\n",
      "lamb =  0.01\n",
      "32\n",
      "4.493414110536442\n",
      "lamb =  0.001\n",
      "239\n",
      "4.493458219787424\n",
      "lamb =  0.0001\n",
      "1268\n",
      "4.493903105658219\n",
      "lamb =  1e-05\n",
      "1489\n",
      "4.498248469426064\n"
     ]
    }
   ],
   "source": [
    "p(5)"
   ]
  },
  {
   "cell_type": "markdown",
   "id": "c684bcdf",
   "metadata": {},
   "source": [
    "### Метод Ньютона"
   ]
  },
  {
   "cell_type": "code",
   "execution_count": 98,
   "id": "86d55d5e",
   "metadata": {},
   "outputs": [],
   "source": [
    "def f(x):\n",
    "    return tan(x) - x \n",
    "\n",
    "def dfdx_x(x):\n",
    "    return 1/(cos(x)**2) - 1"
   ]
  },
  {
   "cell_type": "code",
   "execution_count": 231,
   "id": "8921a4c8",
   "metadata": {},
   "outputs": [],
   "source": [
    "def Newton(f, dfdx, x, eps):\n",
    "    f_value = f(x)\n",
    "    iteration_counter = 0\n",
    "    while abs(f_value/dfdx_x(x)) > eps and iteration_counter < 100:\n",
    "        try:\n",
    "            x = x - f_value/dfdx(x)\n",
    "        except ZeroDivisionError as err:\n",
    "            print('Divide by zero error!')\n",
    "            sys.exit(1)\n",
    "        f_value = f(x)\n",
    "        iteration_counter += 1\n",
    "\n",
    "    if abs(f_value) > eps:\n",
    "        iteration_counter = -1\n",
    "    return x, iteration_counter"
   ]
  },
  {
   "cell_type": "code",
   "execution_count": 232,
   "id": "833e85c3",
   "metadata": {},
   "outputs": [
    {
     "data": {
      "text/plain": [
       "(4.493409457909247, 3)"
      ]
     },
     "execution_count": 232,
     "metadata": {},
     "output_type": "execute_result"
    }
   ],
   "source": [
    "Newton(f, dfdx_x, 4.5, 1e-10)"
   ]
  },
  {
   "cell_type": "code",
   "execution_count": 308,
   "id": "d13b6b38",
   "metadata": {},
   "outputs": [
    {
     "data": {
      "text/plain": [
       "(10.904121673929886, -1)"
      ]
     },
     "execution_count": 308,
     "metadata": {},
     "output_type": "execute_result"
    }
   ],
   "source": [
    "Newton(f, dfdx_x, 10.87, 1e-6)"
   ]
  },
  {
   "cell_type": "markdown",
   "id": "2684685a",
   "metadata": {},
   "source": [
    "### Метод секущих"
   ]
  },
  {
   "cell_type": "code",
   "execution_count": 51,
   "id": "9b4deb7f",
   "metadata": {},
   "outputs": [],
   "source": [
    "def f(x):\n",
    "    return tan(x) - x"
   ]
  },
  {
   "cell_type": "code",
   "execution_count": 200,
   "id": "bbdf5d13",
   "metadata": {},
   "outputs": [],
   "source": [
    "def secant_(x0, x1, tol):\n",
    "    if (abs(x1 - x0) < tol):\n",
    "        return x1\n",
    "    else:\n",
    "        try: \n",
    "            return secant_(x1, (x1 - ((x1 - x0) * f(x1) / (f(x1) - f(x0)))), tol)\n",
    "        except:\n",
    "            return  x1"
   ]
  },
  {
   "cell_type": "code",
   "execution_count": 257,
   "id": "67228082",
   "metadata": {},
   "outputs": [
    {
     "data": {
      "text/plain": [
       "4.493409457909224"
      ]
     },
     "execution_count": 257,
     "metadata": {},
     "output_type": "execute_result"
    }
   ],
   "source": [
    "secant_(3, 4.5, 1e-6)"
   ]
  },
  {
   "cell_type": "code",
   "execution_count": 312,
   "id": "54d4ff03",
   "metadata": {},
   "outputs": [
    {
     "data": {
      "text/plain": [
       "2.9559608000633455e-05"
      ]
     },
     "execution_count": 312,
     "metadata": {},
     "output_type": "execute_result"
    }
   ],
   "source": [
    "secant_(1, 10.9, 1e-5)"
   ]
  },
  {
   "cell_type": "code",
   "execution_count": 305,
   "id": "1b500e2a",
   "metadata": {},
   "outputs": [],
   "source": [
    "def p(N):\n",
    "    eps = 1e-1\n",
    "    for i in range(N):\n",
    "\n",
    "        print(\"eps = \", eps)\n",
    "        #print(secant_(3, 4.8, eps))\n",
    "        print(secant_(9, 10.9, eps))\n",
    "        eps = eps/10\n",
    "    "
   ]
  },
  {
   "cell_type": "code",
   "execution_count": 306,
   "id": "ec921455",
   "metadata": {},
   "outputs": [
    {
     "name": "stdout",
     "output_type": "stream",
     "text": [
      "eps =  0.1\n",
      "10.9991532375801\n",
      "eps =  0.01\n",
      "10.899673118808746\n",
      "eps =  0.001\n",
      "10.899673118808746\n",
      "eps =  0.0001\n",
      "10.904121635800388\n",
      "eps =  1e-05\n",
      "10.904121659431564\n",
      "eps =  1.0000000000000002e-06\n",
      "10.904121659431564\n",
      "eps =  1.0000000000000002e-07\n",
      "10.904121659431564\n",
      "eps =  1.0000000000000002e-08\n",
      "10.904121659428899\n",
      "eps =  1.0000000000000003e-09\n",
      "10.904121659428899\n",
      "eps =  1.0000000000000003e-10\n",
      "10.904121659428899\n"
     ]
    }
   ],
   "source": [
    "p(10)"
   ]
  },
  {
   "cell_type": "code",
   "execution_count": null,
   "id": "15976abb",
   "metadata": {},
   "outputs": [],
   "source": []
  }
 ],
 "metadata": {
  "kernelspec": {
   "display_name": "Python 3 (ipykernel)",
   "language": "python",
   "name": "python3"
  },
  "language_info": {
   "codemirror_mode": {
    "name": "ipython",
    "version": 3
   },
   "file_extension": ".py",
   "mimetype": "text/x-python",
   "name": "python",
   "nbconvert_exporter": "python",
   "pygments_lexer": "ipython3",
   "version": "3.9.12"
  }
 },
 "nbformat": 4,
 "nbformat_minor": 5
}
